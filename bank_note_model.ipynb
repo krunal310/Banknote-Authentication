{
  "nbformat": 4,
  "nbformat_minor": 0,
  "metadata": {
    "colab": {
      "name": "bank-note-model.ipynb",
      "provenance": [],
      "collapsed_sections": [],
      "mount_file_id": "1NB0aHdZShy1DMK-Qs_A-RGNRI-IMUmhK",
      "authorship_tag": "ABX9TyMXihkm3BmX+kHEwuxrpXW/",
      "include_colab_link": true
    },
    "kernelspec": {
      "name": "python3",
      "display_name": "Python 3"
    }
  },
  "cells": [
    {
      "cell_type": "markdown",
      "metadata": {
        "id": "view-in-github",
        "colab_type": "text"
      },
      "source": [
        "<a href=\"https://colab.research.google.com/github/krunal310/Banknote-Authentication/blob/main/bank_note_model.ipynb\" target=\"_parent\"><img src=\"https://colab.research.google.com/assets/colab-badge.svg\" alt=\"Open In Colab\"/></a>"
      ]
    },
    {
      "cell_type": "code",
      "metadata": {
        "id": "VYIgUewRW1rK"
      },
      "source": [
        "import pandas as pd\n",
        "import matplotlib.pyplot as plt\n",
        "import numpy as np\n",
        "import tensorflow as tf\n",
        "from tensorflow import keras\n",
        "from tensorflow.keras import layers"
      ],
      "execution_count": 3,
      "outputs": []
    },
    {
      "cell_type": "code",
      "metadata": {
        "id": "C9Z0N6zIYD5Z"
      },
      "source": [
        "df=pd.read_csv('/content/drive/MyDrive/Projects/Bank Note Authentication/BankNote_Authentication.csv')"
      ],
      "execution_count": 4,
      "outputs": []
    },
    {
      "cell_type": "code",
      "metadata": {
        "id": "Iz1xRD6jYPcc",
        "colab": {
          "base_uri": "https://localhost:8080/",
          "height": 424
        },
        "outputId": "34260894-9afd-4d91-9408-841534aaf51b"
      },
      "source": [
        "df"
      ],
      "execution_count": 5,
      "outputs": [
        {
          "output_type": "execute_result",
          "data": {
            "text/html": [
              "<div>\n",
              "<style scoped>\n",
              "    .dataframe tbody tr th:only-of-type {\n",
              "        vertical-align: middle;\n",
              "    }\n",
              "\n",
              "    .dataframe tbody tr th {\n",
              "        vertical-align: top;\n",
              "    }\n",
              "\n",
              "    .dataframe thead th {\n",
              "        text-align: right;\n",
              "    }\n",
              "</style>\n",
              "<table border=\"1\" class=\"dataframe\">\n",
              "  <thead>\n",
              "    <tr style=\"text-align: right;\">\n",
              "      <th></th>\n",
              "      <th>variance</th>\n",
              "      <th>skewness</th>\n",
              "      <th>curtosis</th>\n",
              "      <th>entropy</th>\n",
              "      <th>class</th>\n",
              "    </tr>\n",
              "  </thead>\n",
              "  <tbody>\n",
              "    <tr>\n",
              "      <th>0</th>\n",
              "      <td>3.62160</td>\n",
              "      <td>8.66610</td>\n",
              "      <td>-2.8073</td>\n",
              "      <td>-0.44699</td>\n",
              "      <td>0</td>\n",
              "    </tr>\n",
              "    <tr>\n",
              "      <th>1</th>\n",
              "      <td>4.54590</td>\n",
              "      <td>8.16740</td>\n",
              "      <td>-2.4586</td>\n",
              "      <td>-1.46210</td>\n",
              "      <td>0</td>\n",
              "    </tr>\n",
              "    <tr>\n",
              "      <th>2</th>\n",
              "      <td>3.86600</td>\n",
              "      <td>-2.63830</td>\n",
              "      <td>1.9242</td>\n",
              "      <td>0.10645</td>\n",
              "      <td>0</td>\n",
              "    </tr>\n",
              "    <tr>\n",
              "      <th>3</th>\n",
              "      <td>3.45660</td>\n",
              "      <td>9.52280</td>\n",
              "      <td>-4.0112</td>\n",
              "      <td>-3.59440</td>\n",
              "      <td>0</td>\n",
              "    </tr>\n",
              "    <tr>\n",
              "      <th>4</th>\n",
              "      <td>0.32924</td>\n",
              "      <td>-4.45520</td>\n",
              "      <td>4.5718</td>\n",
              "      <td>-0.98880</td>\n",
              "      <td>0</td>\n",
              "    </tr>\n",
              "    <tr>\n",
              "      <th>...</th>\n",
              "      <td>...</td>\n",
              "      <td>...</td>\n",
              "      <td>...</td>\n",
              "      <td>...</td>\n",
              "      <td>...</td>\n",
              "    </tr>\n",
              "    <tr>\n",
              "      <th>1367</th>\n",
              "      <td>0.40614</td>\n",
              "      <td>1.34920</td>\n",
              "      <td>-1.4501</td>\n",
              "      <td>-0.55949</td>\n",
              "      <td>1</td>\n",
              "    </tr>\n",
              "    <tr>\n",
              "      <th>1368</th>\n",
              "      <td>-1.38870</td>\n",
              "      <td>-4.87730</td>\n",
              "      <td>6.4774</td>\n",
              "      <td>0.34179</td>\n",
              "      <td>1</td>\n",
              "    </tr>\n",
              "    <tr>\n",
              "      <th>1369</th>\n",
              "      <td>-3.75030</td>\n",
              "      <td>-13.45860</td>\n",
              "      <td>17.5932</td>\n",
              "      <td>-2.77710</td>\n",
              "      <td>1</td>\n",
              "    </tr>\n",
              "    <tr>\n",
              "      <th>1370</th>\n",
              "      <td>-3.56370</td>\n",
              "      <td>-8.38270</td>\n",
              "      <td>12.3930</td>\n",
              "      <td>-1.28230</td>\n",
              "      <td>1</td>\n",
              "    </tr>\n",
              "    <tr>\n",
              "      <th>1371</th>\n",
              "      <td>-2.54190</td>\n",
              "      <td>-0.65804</td>\n",
              "      <td>2.6842</td>\n",
              "      <td>1.19520</td>\n",
              "      <td>1</td>\n",
              "    </tr>\n",
              "  </tbody>\n",
              "</table>\n",
              "<p>1372 rows × 5 columns</p>\n",
              "</div>"
            ],
            "text/plain": [
              "      variance  skewness  curtosis  entropy  class\n",
              "0      3.62160   8.66610   -2.8073 -0.44699      0\n",
              "1      4.54590   8.16740   -2.4586 -1.46210      0\n",
              "2      3.86600  -2.63830    1.9242  0.10645      0\n",
              "3      3.45660   9.52280   -4.0112 -3.59440      0\n",
              "4      0.32924  -4.45520    4.5718 -0.98880      0\n",
              "...        ...       ...       ...      ...    ...\n",
              "1367   0.40614   1.34920   -1.4501 -0.55949      1\n",
              "1368  -1.38870  -4.87730    6.4774  0.34179      1\n",
              "1369  -3.75030 -13.45860   17.5932 -2.77710      1\n",
              "1370  -3.56370  -8.38270   12.3930 -1.28230      1\n",
              "1371  -2.54190  -0.65804    2.6842  1.19520      1\n",
              "\n",
              "[1372 rows x 5 columns]"
            ]
          },
          "metadata": {
            "tags": []
          },
          "execution_count": 5
        }
      ]
    },
    {
      "cell_type": "code",
      "metadata": {
        "id": "5VvKWAELYQZd",
        "colab": {
          "base_uri": "https://localhost:8080/",
          "height": 300
        },
        "outputId": "6d4820f0-e314-44c0-d560-14ccd72a66c3"
      },
      "source": [
        "df.describe()"
      ],
      "execution_count": 6,
      "outputs": [
        {
          "output_type": "execute_result",
          "data": {
            "text/html": [
              "<div>\n",
              "<style scoped>\n",
              "    .dataframe tbody tr th:only-of-type {\n",
              "        vertical-align: middle;\n",
              "    }\n",
              "\n",
              "    .dataframe tbody tr th {\n",
              "        vertical-align: top;\n",
              "    }\n",
              "\n",
              "    .dataframe thead th {\n",
              "        text-align: right;\n",
              "    }\n",
              "</style>\n",
              "<table border=\"1\" class=\"dataframe\">\n",
              "  <thead>\n",
              "    <tr style=\"text-align: right;\">\n",
              "      <th></th>\n",
              "      <th>variance</th>\n",
              "      <th>skewness</th>\n",
              "      <th>curtosis</th>\n",
              "      <th>entropy</th>\n",
              "      <th>class</th>\n",
              "    </tr>\n",
              "  </thead>\n",
              "  <tbody>\n",
              "    <tr>\n",
              "      <th>count</th>\n",
              "      <td>1372.000000</td>\n",
              "      <td>1372.000000</td>\n",
              "      <td>1372.000000</td>\n",
              "      <td>1372.000000</td>\n",
              "      <td>1372.000000</td>\n",
              "    </tr>\n",
              "    <tr>\n",
              "      <th>mean</th>\n",
              "      <td>0.433735</td>\n",
              "      <td>1.922353</td>\n",
              "      <td>1.397627</td>\n",
              "      <td>-1.191657</td>\n",
              "      <td>0.444606</td>\n",
              "    </tr>\n",
              "    <tr>\n",
              "      <th>std</th>\n",
              "      <td>2.842763</td>\n",
              "      <td>5.869047</td>\n",
              "      <td>4.310030</td>\n",
              "      <td>2.101013</td>\n",
              "      <td>0.497103</td>\n",
              "    </tr>\n",
              "    <tr>\n",
              "      <th>min</th>\n",
              "      <td>-7.042100</td>\n",
              "      <td>-13.773100</td>\n",
              "      <td>-5.286100</td>\n",
              "      <td>-8.548200</td>\n",
              "      <td>0.000000</td>\n",
              "    </tr>\n",
              "    <tr>\n",
              "      <th>25%</th>\n",
              "      <td>-1.773000</td>\n",
              "      <td>-1.708200</td>\n",
              "      <td>-1.574975</td>\n",
              "      <td>-2.413450</td>\n",
              "      <td>0.000000</td>\n",
              "    </tr>\n",
              "    <tr>\n",
              "      <th>50%</th>\n",
              "      <td>0.496180</td>\n",
              "      <td>2.319650</td>\n",
              "      <td>0.616630</td>\n",
              "      <td>-0.586650</td>\n",
              "      <td>0.000000</td>\n",
              "    </tr>\n",
              "    <tr>\n",
              "      <th>75%</th>\n",
              "      <td>2.821475</td>\n",
              "      <td>6.814625</td>\n",
              "      <td>3.179250</td>\n",
              "      <td>0.394810</td>\n",
              "      <td>1.000000</td>\n",
              "    </tr>\n",
              "    <tr>\n",
              "      <th>max</th>\n",
              "      <td>6.824800</td>\n",
              "      <td>12.951600</td>\n",
              "      <td>17.927400</td>\n",
              "      <td>2.449500</td>\n",
              "      <td>1.000000</td>\n",
              "    </tr>\n",
              "  </tbody>\n",
              "</table>\n",
              "</div>"
            ],
            "text/plain": [
              "          variance     skewness     curtosis      entropy        class\n",
              "count  1372.000000  1372.000000  1372.000000  1372.000000  1372.000000\n",
              "mean      0.433735     1.922353     1.397627    -1.191657     0.444606\n",
              "std       2.842763     5.869047     4.310030     2.101013     0.497103\n",
              "min      -7.042100   -13.773100    -5.286100    -8.548200     0.000000\n",
              "25%      -1.773000    -1.708200    -1.574975    -2.413450     0.000000\n",
              "50%       0.496180     2.319650     0.616630    -0.586650     0.000000\n",
              "75%       2.821475     6.814625     3.179250     0.394810     1.000000\n",
              "max       6.824800    12.951600    17.927400     2.449500     1.000000"
            ]
          },
          "metadata": {
            "tags": []
          },
          "execution_count": 6
        }
      ]
    },
    {
      "cell_type": "code",
      "metadata": {
        "id": "dHvBgAcKYUZc",
        "colab": {
          "base_uri": "https://localhost:8080/",
          "height": 626
        },
        "outputId": "7a82867c-0a82-4ebd-a59e-4b9c7952afab"
      },
      "source": [
        "df.hist(figsize=(16,8),layout=(3,2),bins=10)"
      ],
      "execution_count": 7,
      "outputs": [
        {
          "output_type": "execute_result",
          "data": {
            "text/plain": [
              "array([[<matplotlib.axes._subplots.AxesSubplot object at 0x7ff7fdea5c18>,\n",
              "        <matplotlib.axes._subplots.AxesSubplot object at 0x7ff7ca057fd0>],\n",
              "       [<matplotlib.axes._subplots.AxesSubplot object at 0x7ff7ca0182b0>,\n",
              "        <matplotlib.axes._subplots.AxesSubplot object at 0x7ff7ca04c518>],\n",
              "       [<matplotlib.axes._subplots.AxesSubplot object at 0x7ff7c9fff780>,\n",
              "        <matplotlib.axes._subplots.AxesSubplot object at 0x7ff7c9fb8518>]],\n",
              "      dtype=object)"
            ]
          },
          "metadata": {
            "tags": []
          },
          "execution_count": 7
        },
        {
          "output_type": "display_data",
          "data": {
            "image/png": "[encoded data removed]",
            "text/plain": [
              "<Figure size 1152x576 with 6 Axes>"
            ]
          },
          "metadata": {
            "tags": [],
            "needs_background": "light"
          }
        }
      ]
    },
    {
      "cell_type": "code",
      "metadata": {
        "id": "ROO923ouYc8C"
      },
      "source": [
        "X=df.iloc[:,:-1]\n",
        "y=df.iloc[:,-1]"
      ],
      "execution_count": 8,
      "outputs": []
    },
    {
      "cell_type": "code",
      "metadata": {
        "id": "KtusOiZIYhUF",
        "colab": {
          "base_uri": "https://localhost:8080/",
          "height": 206
        },
        "outputId": "668d96f5-af77-43ec-95a0-ae8a80212679"
      },
      "source": [
        "X.head()"
      ],
      "execution_count": 9,
      "outputs": [
        {
          "output_type": "execute_result",
          "data": {
            "text/html": [
              "<div>\n",
              "<style scoped>\n",
              "    .dataframe tbody tr th:only-of-type {\n",
              "        vertical-align: middle;\n",
              "    }\n",
              "\n",
              "    .dataframe tbody tr th {\n",
              "        vertical-align: top;\n",
              "    }\n",
              "\n",
              "    .dataframe thead th {\n",
              "        text-align: right;\n",
              "    }\n",
              "</style>\n",
              "<table border=\"1\" class=\"dataframe\">\n",
              "  <thead>\n",
              "    <tr style=\"text-align: right;\">\n",
              "      <th></th>\n",
              "      <th>variance</th>\n",
              "      <th>skewness</th>\n",
              "      <th>curtosis</th>\n",
              "      <th>entropy</th>\n",
              "    </tr>\n",
              "  </thead>\n",
              "  <tbody>\n",
              "    <tr>\n",
              "      <th>0</th>\n",
              "      <td>3.62160</td>\n",
              "      <td>8.6661</td>\n",
              "      <td>-2.8073</td>\n",
              "      <td>-0.44699</td>\n",
              "    </tr>\n",
              "    <tr>\n",
              "      <th>1</th>\n",
              "      <td>4.54590</td>\n",
              "      <td>8.1674</td>\n",
              "      <td>-2.4586</td>\n",
              "      <td>-1.46210</td>\n",
              "    </tr>\n",
              "    <tr>\n",
              "      <th>2</th>\n",
              "      <td>3.86600</td>\n",
              "      <td>-2.6383</td>\n",
              "      <td>1.9242</td>\n",
              "      <td>0.10645</td>\n",
              "    </tr>\n",
              "    <tr>\n",
              "      <th>3</th>\n",
              "      <td>3.45660</td>\n",
              "      <td>9.5228</td>\n",
              "      <td>-4.0112</td>\n",
              "      <td>-3.59440</td>\n",
              "    </tr>\n",
              "    <tr>\n",
              "      <th>4</th>\n",
              "      <td>0.32924</td>\n",
              "      <td>-4.4552</td>\n",
              "      <td>4.5718</td>\n",
              "      <td>-0.98880</td>\n",
              "    </tr>\n",
              "  </tbody>\n",
              "</table>\n",
              "</div>"
            ],
            "text/plain": [
              "   variance  skewness  curtosis  entropy\n",
              "0   3.62160    8.6661   -2.8073 -0.44699\n",
              "1   4.54590    8.1674   -2.4586 -1.46210\n",
              "2   3.86600   -2.6383    1.9242  0.10645\n",
              "3   3.45660    9.5228   -4.0112 -3.59440\n",
              "4   0.32924   -4.4552    4.5718 -0.98880"
            ]
          },
          "metadata": {
            "tags": []
          },
          "execution_count": 9
        }
      ]
    },
    {
      "cell_type": "code",
      "metadata": {
        "id": "8gGkPAygYkpU",
        "colab": {
          "base_uri": "https://localhost:8080/"
        },
        "outputId": "6a24a034-63f7-4e53-9081-8e4acb651293"
      },
      "source": [
        "y.head()"
      ],
      "execution_count": 10,
      "outputs": [
        {
          "output_type": "execute_result",
          "data": {
            "text/plain": [
              "0    0\n",
              "1    0\n",
              "2    0\n",
              "3    0\n",
              "4    0\n",
              "Name: class, dtype: int64"
            ]
          },
          "metadata": {
            "tags": []
          },
          "execution_count": 10
        }
      ]
    },
    {
      "cell_type": "code",
      "metadata": {
        "id": "UEMNngTXYohF"
      },
      "source": [
        "from sklearn.preprocessing import StandardScaler\n",
        "\n",
        "scaler = StandardScaler()\n",
        "scaler.fit(X)\n",
        "\n",
        "#Scale and centre the data\n",
        "\n",
        "df_normalised = scaler.transform(X)\n",
        "\n",
        "#Create a pandas dataframe\n",
        "\n",
        "df_normalised = pd.DataFrame(data = X, index= X.index, columns= X.columns)\n"
      ],
      "execution_count": 11,
      "outputs": []
    },
    {
      "cell_type": "code",
      "metadata": {
        "id": "Z9CZLLO0Y-Iu",
        "colab": {
          "base_uri": "https://localhost:8080/",
          "height": 300
        },
        "outputId": "ee634b84-2815-4dcd-b6b2-87f427f1174f"
      },
      "source": [
        "df_normalised.describe()"
      ],
      "execution_count": 12,
      "outputs": [
        {
          "output_type": "execute_result",
          "data": {
            "text/html": [
              "<div>\n",
              "<style scoped>\n",
              "    .dataframe tbody tr th:only-of-type {\n",
              "        vertical-align: middle;\n",
              "    }\n",
              "\n",
              "    .dataframe tbody tr th {\n",
              "        vertical-align: top;\n",
              "    }\n",
              "\n",
              "    .dataframe thead th {\n",
              "        text-align: right;\n",
              "    }\n",
              "</style>\n",
              "<table border=\"1\" class=\"dataframe\">\n",
              "  <thead>\n",
              "    <tr style=\"text-align: right;\">\n",
              "      <th></th>\n",
              "      <th>variance</th>\n",
              "      <th>skewness</th>\n",
              "      <th>curtosis</th>\n",
              "      <th>entropy</th>\n",
              "    </tr>\n",
              "  </thead>\n",
              "  <tbody>\n",
              "    <tr>\n",
              "      <th>count</th>\n",
              "      <td>1372.000000</td>\n",
              "      <td>1372.000000</td>\n",
              "      <td>1372.000000</td>\n",
              "      <td>1372.000000</td>\n",
              "    </tr>\n",
              "    <tr>\n",
              "      <th>mean</th>\n",
              "      <td>0.433735</td>\n",
              "      <td>1.922353</td>\n",
              "      <td>1.397627</td>\n",
              "      <td>-1.191657</td>\n",
              "    </tr>\n",
              "    <tr>\n",
              "      <th>std</th>\n",
              "      <td>2.842763</td>\n",
              "      <td>5.869047</td>\n",
              "      <td>4.310030</td>\n",
              "      <td>2.101013</td>\n",
              "    </tr>\n",
              "    <tr>\n",
              "      <th>min</th>\n",
              "      <td>-7.042100</td>\n",
              "      <td>-13.773100</td>\n",
              "      <td>-5.286100</td>\n",
              "      <td>-8.548200</td>\n",
              "    </tr>\n",
              "    <tr>\n",
              "      <th>25%</th>\n",
              "      <td>-1.773000</td>\n",
              "      <td>-1.708200</td>\n",
              "      <td>-1.574975</td>\n",
              "      <td>-2.413450</td>\n",
              "    </tr>\n",
              "    <tr>\n",
              "      <th>50%</th>\n",
              "      <td>0.496180</td>\n",
              "      <td>2.319650</td>\n",
              "      <td>0.616630</td>\n",
              "      <td>-0.586650</td>\n",
              "    </tr>\n",
              "    <tr>\n",
              "      <th>75%</th>\n",
              "      <td>2.821475</td>\n",
              "      <td>6.814625</td>\n",
              "      <td>3.179250</td>\n",
              "      <td>0.394810</td>\n",
              "    </tr>\n",
              "    <tr>\n",
              "      <th>max</th>\n",
              "      <td>6.824800</td>\n",
              "      <td>12.951600</td>\n",
              "      <td>17.927400</td>\n",
              "      <td>2.449500</td>\n",
              "    </tr>\n",
              "  </tbody>\n",
              "</table>\n",
              "</div>"
            ],
            "text/plain": [
              "          variance     skewness     curtosis      entropy\n",
              "count  1372.000000  1372.000000  1372.000000  1372.000000\n",
              "mean      0.433735     1.922353     1.397627    -1.191657\n",
              "std       2.842763     5.869047     4.310030     2.101013\n",
              "min      -7.042100   -13.773100    -5.286100    -8.548200\n",
              "25%      -1.773000    -1.708200    -1.574975    -2.413450\n",
              "50%       0.496180     2.319650     0.616630    -0.586650\n",
              "75%       2.821475     6.814625     3.179250     0.394810\n",
              "max       6.824800    12.951600    17.927400     2.449500"
            ]
          },
          "metadata": {
            "tags": []
          },
          "execution_count": 12
        }
      ]
    },
    {
      "cell_type": "code",
      "metadata": {
        "id": "7NZRods4ZBIX"
      },
      "source": [
        "from sklearn.model_selection import train_test_split\n",
        "X_train, X_test, y_train, y_test = train_test_split(X, y, test_size = 0.3, random_state = 0,stratify=df['class'])"
      ],
      "execution_count": 13,
      "outputs": []
    },
    {
      "cell_type": "code",
      "metadata": {
        "id": "bSejMG84WvAL"
      },
      "source": [
        "from keras.layers import Dropout"
      ],
      "execution_count": 14,
      "outputs": []
    },
    {
      "cell_type": "code",
      "metadata": {
        "colab": {
          "base_uri": "https://localhost:8080/"
        },
        "id": "iP4HZyowW6Fo",
        "outputId": "4a8a4ab7-c0d5-46f0-d448-49c0204a24d1"
      },
      "source": [
        "model = tf.keras.models.Sequential([\n",
        "    keras.layers.Flatten(input_shape=(4,)),\n",
        "    keras.layers.Dense(80, activation=tf.nn.relu),\n",
        "    Dropout(0.2),\n",
        "\t  keras.layers.Dense(40, activation=tf.nn.relu),\n",
        "    Dropout(0.2),\n",
        "    keras.layers.Dense(1, activation=tf.nn.sigmoid),\n",
        "])\n",
        "\n",
        "model.compile(optimizer='adam',\n",
        "              loss='binary_crossentropy',\n",
        "              metrics=['accuracy'],)\n",
        "model.summary()"
      ],
      "execution_count": 15,
      "outputs": [
        {
          "output_type": "stream",
          "text": [
            "Model: \"sequential\"\n",
            "_________________________________________________________________\n",
            "Layer (type)                 Output Shape              Param #   \n",
            "=================================================================\n",
            "flatten (Flatten)            (None, 4)                 0         \n",
            "_________________________________________________________________\n",
            "dense (Dense)                (None, 80)                400       \n",
            "_________________________________________________________________\n",
            "dropout (Dropout)            (None, 80)                0         \n",
            "_________________________________________________________________\n",
            "dense_1 (Dense)              (None, 40)                3240      \n",
            "_________________________________________________________________\n",
            "dropout_1 (Dropout)          (None, 40)                0         \n",
            "_________________________________________________________________\n",
            "dense_2 (Dense)              (None, 1)                 41        \n",
            "=================================================================\n",
            "Total params: 3,681\n",
            "Trainable params: 3,681\n",
            "Non-trainable params: 0\n",
            "_________________________________________________________________\n"
          ],
          "name": "stdout"
        }
      ]
    },
    {
      "cell_type": "code",
      "metadata": {
        "colab": {
          "base_uri": "https://localhost:8080/"
        },
        "id": "r8asClauXMVD",
        "outputId": "df581581-10e2-497d-9f9a-3d671561d8d2"
      },
      "source": [
        "model.fit(X_train, y_train, epochs=50, batch_size=1)\n",
        "test_loss, test_acc = model.evaluate(X_test, y_test)\n",
        "print('Test accuracy:', test_acc)"
      ],
      "execution_count": 16,
      "outputs": [
        {
          "output_type": "stream",
          "text": [
            "Epoch 1/50\n",
            "960/960 [==============================] - 1s 1ms/step - loss: 0.1567 - accuracy: 0.9490\n",
            "Epoch 2/50\n",
            "960/960 [==============================] - 1s 1ms/step - loss: 0.0208 - accuracy: 0.9979\n",
            "Epoch 3/50\n",
            "960/960 [==============================] - 1s 1ms/step - loss: 0.0101 - accuracy: 0.9958\n",
            "Epoch 4/50\n",
            "960/960 [==============================] - 1s 1ms/step - loss: 0.0104 - accuracy: 0.9979\n",
            "Epoch 5/50\n",
            "960/960 [==============================] - 1s 1ms/step - loss: 0.0028 - accuracy: 0.9990\n",
            "Epoch 6/50\n",
            "960/960 [==============================] - 1s 1ms/step - loss: 8.0737e-04 - accuracy: 1.0000\n",
            "Epoch 7/50\n",
            "960/960 [==============================] - 1s 1ms/step - loss: 9.7474e-04 - accuracy: 1.0000\n",
            "Epoch 8/50\n",
            "960/960 [==============================] - 1s 1ms/step - loss: 5.4455e-04 - accuracy: 1.0000\n",
            "Epoch 9/50\n",
            "960/960 [==============================] - 1s 1ms/step - loss: 1.3017e-04 - accuracy: 1.0000\n",
            "Epoch 10/50\n",
            "960/960 [==============================] - 1s 1ms/step - loss: 1.4173e-04 - accuracy: 1.0000\n",
            "Epoch 11/50\n",
            "960/960 [==============================] - 1s 1ms/step - loss: 0.0031 - accuracy: 0.9990\n",
            "Epoch 12/50\n",
            "960/960 [==============================] - 1s 1ms/step - loss: 0.0103 - accuracy: 0.9958\n",
            "Epoch 13/50\n",
            "960/960 [==============================] - 1s 1ms/step - loss: 3.0958e-04 - accuracy: 1.0000\n",
            "Epoch 14/50\n",
            "960/960 [==============================] - 1s 2ms/step - loss: 8.0938e-04 - accuracy: 1.0000\n",
            "Epoch 15/50\n",
            "960/960 [==============================] - 2s 2ms/step - loss: 2.8894e-04 - accuracy: 1.0000\n",
            "Epoch 16/50\n",
            "960/960 [==============================] - 2s 2ms/step - loss: 0.0051 - accuracy: 0.9979\n",
            "Epoch 17/50\n",
            "960/960 [==============================] - 2s 2ms/step - loss: 0.0021 - accuracy: 0.9990\n",
            "Epoch 18/50\n",
            "960/960 [==============================] - 2s 2ms/step - loss: 2.2747e-04 - accuracy: 1.0000\n",
            "Epoch 19/50\n",
            "960/960 [==============================] - 2s 2ms/step - loss: 0.0198 - accuracy: 0.9958\n",
            "Epoch 20/50\n",
            "960/960 [==============================] - 1s 2ms/step - loss: 0.0071 - accuracy: 0.9979\n",
            "Epoch 21/50\n",
            "960/960 [==============================] - 2s 2ms/step - loss: 7.9504e-05 - accuracy: 1.0000\n",
            "Epoch 22/50\n",
            "960/960 [==============================] - 2s 2ms/step - loss: 2.4199e-05 - accuracy: 1.0000\n",
            "Epoch 23/50\n",
            "960/960 [==============================] - 2s 2ms/step - loss: 2.3896e-05 - accuracy: 1.0000\n",
            "Epoch 24/50\n",
            "960/960 [==============================] - 2s 2ms/step - loss: 2.4127e-05 - accuracy: 1.0000\n",
            "Epoch 25/50\n",
            "960/960 [==============================] - 2s 2ms/step - loss: 2.0457e-05 - accuracy: 1.0000\n",
            "Epoch 26/50\n",
            "960/960 [==============================] - 2s 2ms/step - loss: 2.6038e-04 - accuracy: 1.0000\n",
            "Epoch 27/50\n",
            "960/960 [==============================] - 1s 1ms/step - loss: 1.0795e-04 - accuracy: 1.0000\n",
            "Epoch 28/50\n",
            "960/960 [==============================] - 1s 1ms/step - loss: 4.4476e-05 - accuracy: 1.0000\n",
            "Epoch 29/50\n",
            "960/960 [==============================] - 1s 1ms/step - loss: 3.0757e-04 - accuracy: 1.0000\n",
            "Epoch 30/50\n",
            "960/960 [==============================] - 1s 1ms/step - loss: 5.9365e-05 - accuracy: 1.0000\n",
            "Epoch 31/50\n",
            "960/960 [==============================] - 1s 1ms/step - loss: 1.3029e-05 - accuracy: 1.0000\n",
            "Epoch 32/50\n",
            "960/960 [==============================] - 1s 1ms/step - loss: 4.5174e-05 - accuracy: 1.0000\n",
            "Epoch 33/50\n",
            "960/960 [==============================] - 1s 1ms/step - loss: 8.7010e-06 - accuracy: 1.0000\n",
            "Epoch 34/50\n",
            "960/960 [==============================] - 1s 1ms/step - loss: 1.4350e-06 - accuracy: 1.0000\n",
            "Epoch 35/50\n",
            "960/960 [==============================] - 1s 1ms/step - loss: 1.0835e-06 - accuracy: 1.0000\n",
            "Epoch 36/50\n",
            "960/960 [==============================] - 1s 1ms/step - loss: 0.0078 - accuracy: 0.9979\n",
            "Epoch 37/50\n",
            "960/960 [==============================] - 1s 1ms/step - loss: 5.0739e-06 - accuracy: 1.0000\n",
            "Epoch 38/50\n",
            "960/960 [==============================] - 1s 1ms/step - loss: 1.3000e-04 - accuracy: 1.0000\n",
            "Epoch 39/50\n",
            "960/960 [==============================] - 1s 1ms/step - loss: 1.0006e-06 - accuracy: 1.0000\n",
            "Epoch 40/50\n",
            "960/960 [==============================] - 1s 1ms/step - loss: 1.2971e-04 - accuracy: 1.0000\n",
            "Epoch 41/50\n",
            "960/960 [==============================] - 1s 1ms/step - loss: 8.1222e-04 - accuracy: 0.9990\n",
            "Epoch 42/50\n",
            "960/960 [==============================] - 1s 1ms/step - loss: 2.3615e-06 - accuracy: 1.0000\n",
            "Epoch 43/50\n",
            "960/960 [==============================] - 1s 1ms/step - loss: 0.0196 - accuracy: 0.9969\n",
            "Epoch 44/50\n",
            "960/960 [==============================] - 1s 1ms/step - loss: 6.0078e-06 - accuracy: 1.0000\n",
            "Epoch 45/50\n",
            "960/960 [==============================] - 1s 1ms/step - loss: 7.5091e-05 - accuracy: 1.0000\n",
            "Epoch 46/50\n",
            "960/960 [==============================] - 1s 1ms/step - loss: 1.2769e-06 - accuracy: 1.0000\n",
            "Epoch 47/50\n",
            "960/960 [==============================] - 1s 1ms/step - loss: 2.1098e-06 - accuracy: 1.0000\n",
            "Epoch 48/50\n",
            "960/960 [==============================] - 1s 1ms/step - loss: 0.0061 - accuracy: 0.9979\n",
            "Epoch 49/50\n",
            "960/960 [==============================] - 1s 1ms/step - loss: 5.3739e-06 - accuracy: 1.0000\n",
            "Epoch 50/50\n",
            "960/960 [==============================] - 1s 1ms/step - loss: 1.3897e-04 - accuracy: 1.0000\n",
            "13/13 [==============================] - 0s 2ms/step - loss: 4.4791e-07 - accuracy: 1.0000\n",
            "Test accuracy: 1.0\n"
          ],
          "name": "stdout"
        }
      ]
    },
    {
      "cell_type": "code",
      "metadata": {
        "id": "fnb8LZU8XPzF"
      },
      "source": [
        "model.save(\"/content/model.h5\")"
      ],
      "execution_count": 18,
      "outputs": []
    },
    {
      "cell_type": "code",
      "metadata": {
        "id": "SfhDaJSDXfY2"
      },
      "source": [
        ""
      ],
      "execution_count": null,
      "outputs": []
    }
  ]
}